{
 "cells": [
  {
   "cell_type": "code",
   "execution_count": 179,
   "id": "0959b566-c31a-4cf9-aa16-da1d71f21a52",
   "metadata": {},
   "outputs": [],
   "source": [
    "#!/usr/bin/python3"
   ]
  },
  {
   "cell_type": "code",
   "execution_count": 180,
   "id": "cb88d538-8fc9-46c7-8140-4675c3a6ceb1",
   "metadata": {},
   "outputs": [],
   "source": [
    "#from collections import Counter\n",
    "#import re\n",
    "#import os\n",
    "import time\n",
    "#from collections import defaultdict\n",
    "#from collections import deque"
   ]
  },
  {
   "cell_type": "code",
   "execution_count": 181,
   "id": "f55b7992-aa00-49bd-8321-64bbd778e15e",
   "metadata": {},
   "outputs": [
    {
     "name": "stdout",
     "output_type": "stream",
     "text": [
      "https://adventofcode.com/2023/day/1\n"
     ]
    }
   ],
   "source": [
    "date = 1\n",
    "dev = 0 # extra prints\n",
    "part = 3 # 1,2, or 3 for both\n",
    "# 0 or 1:\n",
    "samp = 1\n",
    "print(\"https://adventofcode.com/2023/day/{}\".format(date))"
   ]
  },
  {
   "cell_type": "markdown",
   "id": "88404eb8-4034-4bdd-9dae-86e31d39efba",
   "metadata": {
    "tags": []
   },
   "source": [
    "## Read the input data "
   ]
  },
  {
   "cell_type": "code",
   "execution_count": 182,
   "id": "95c6dda8-9ebf-4edc-bfc1-078ba6b51e32",
   "metadata": {},
   "outputs": [
    {
     "name": "stdout",
     "output_type": "stream",
     "text": [
      "7\n"
     ]
    }
   ],
   "source": [
    "#time0 = time.time()\n",
    "\n",
    "if samp == 1:\n",
    "    filename = \"/sample.txt\"\n",
    "else:\n",
    "    filename = \"/input.txt\"\n",
    "try:\n",
    "    with open(str(date) + filename,\"r\") as f:\n",
    "        t = f.readlines()\n",
    "except FileNotFoundError:\n",
    "    with open(\".\" + filename,\"r\") as f:\n",
    "        t = f.readlines()\n",
    "\n",
    "t = [(x.strip().replace('  ',' ')) for x in t]\n",
    "#t = [int(x) for x in t]\n",
    "print(len(t))"
   ]
  },
  {
   "cell_type": "markdown",
   "id": "e4a219ce-1941-48f2-9b11-4717581c82c9",
   "metadata": {},
   "source": [
    "## Part one"
   ]
  },
  {
   "cell_type": "code",
   "execution_count": null,
   "id": "5ae65db8-f67a-41e8-bf4e-228c0eae27e6",
   "metadata": {},
   "outputs": [],
   "source": []
  },
  {
   "cell_type": "code",
   "execution_count": null,
   "id": "0abee815-1f96-4ead-bf79-244c1d1077eb",
   "metadata": {},
   "outputs": [],
   "source": []
  },
  {
   "cell_type": "code",
   "execution_count": null,
   "id": "9676ebb6-f9f9-42d2-8ce2-ba650df1d45a",
   "metadata": {},
   "outputs": [],
   "source": []
  },
  {
   "cell_type": "code",
   "execution_count": 183,
   "id": "72b8f11d-18f0-4f2e-9438-75aff4b78bc1",
   "metadata": {
    "tags": []
   },
   "outputs": [],
   "source": [
    "def part_one(te):\n",
    "    ans = 0\n",
    "    for r in te:\n",
    "        calval = 0\n",
    "        for i in r:\n",
    "            #print(i)\n",
    "            if i.isdigit():\n",
    "                calval = 10 * int(i)\n",
    "                #print(i, calval)\n",
    "                break\n",
    "        for i in reversed(r):\n",
    "            if i.isdigit():\n",
    "                calval += int(i)\n",
    "                #print(i, calval)\n",
    "                break\n",
    "        ans += calval\n",
    "        \n",
    "    return ans\n",
    "#part_one(t)"
   ]
  },
  {
   "cell_type": "markdown",
   "id": "99b4800a-d2b1-4fb8-a6fb-af8b8d5f80cb",
   "metadata": {},
   "source": [
    "## Part two"
   ]
  },
  {
   "cell_type": "code",
   "execution_count": null,
   "id": "574b9b37-6aa3-4fe9-b6f2-9da55c177ab7",
   "metadata": {},
   "outputs": [],
   "source": []
  },
  {
   "cell_type": "code",
   "execution_count": 184,
   "id": "aa19182a-5969-4229-9b5c-8630a4e51d53",
   "metadata": {
    "tags": []
   },
   "outputs": [],
   "source": [
    "def part_two(te):\n",
    "    \n",
    "    ans = 0\n",
    "    d = {}\n",
    "    numbers = [\"zero\", \"one\", \"two\", \"three\", \"four\", \"five\", \"six\", \"seven\", \"eight\", \"nine\"]\n",
    "    for n in range(10):\n",
    "        d[numbers[n]] = n\n",
    "    # {'zero': 0, 'one': 1 ...\n",
    "    for r in te:\n",
    "        #print(r)\n",
    "        idx = 999\n",
    "        val = 0\n",
    "        # 0-9:\n",
    "        ''' go from start to end, break when a new digit is found '''\n",
    "        for i, v in enumerate(r):\n",
    "            #print(i,v)\n",
    "            if v.isdigit():\n",
    "                idx = i\n",
    "                val = v\n",
    "                break\n",
    "        # zero-nine:\n",
    "        ''' find first word occurance in string, keep the one with the lowest index '''\n",
    "        for n in numbers:\n",
    "            i = r.find(n,0,-1)\n",
    "            #print(r,i,n, d[n])\n",
    "            if i > -1:\n",
    "                # substring found in string if i not -1\n",
    "                if i < idx:\n",
    "                    # substring is before previously found\n",
    "                    idx = i\n",
    "                    val = d[n]\n",
    "        #print(idx, val)\n",
    "        first = int(val)\n",
    "        \n",
    "        ### second digit\n",
    "        \n",
    "        idx = -1\n",
    "        val = 0\n",
    "        \n",
    "        ## 0-9:\n",
    "        ''' go from start to end, overwrite idx and val when a new digit is found '''\n",
    "        for i,v in enumerate((r)):\n",
    "            if v.isdigit():\n",
    "                idx = int(i)\n",
    "                val = v\n",
    "    \n",
    "        ## zero-nine:\n",
    "        ''' find last word occurance in string, keep the one with the biggest index '''\n",
    "        for n in numbers:\n",
    "            i = r.rfind(n)\n",
    "            #print(r,i,n, d[n], idx)\n",
    "            if i > -1:\n",
    "                # substring found in string if i not -1\n",
    "                if i > idx:\n",
    "                    # substring is after previously found\n",
    "                    #print(\"++\", r,i,n, d[n])\n",
    "                    idx = i\n",
    "                    val = d[n]\n",
    "        second = int(val)\n",
    "        #print(idx,second)\n",
    "        calval = first*10 + second\n",
    "        if 0:\n",
    "            print(calval, r)\n",
    "        ans += calval\n",
    "        \n",
    "    return ans\n",
    "#part_two(t)"
   ]
  },
  {
   "cell_type": "markdown",
   "id": "52366ae7-ceec-409e-b637-0e61036c962f",
   "metadata": {},
   "source": [
    "## Run the programs"
   ]
  },
  {
   "cell_type": "code",
   "execution_count": 185,
   "id": "e7c79c46-6c97-4a27-92c3-cf2c5a54a320",
   "metadata": {},
   "outputs": [
    {
     "name": "stdout",
     "output_type": "stream",
     "text": [
      "Part 1:  209\n",
      "Part 2:  281\n",
      "Elapsed time: 0.0002 s\n"
     ]
    }
   ],
   "source": [
    "if 1:\n",
    "    time0 = time.time()\n",
    "    if part == 1:\n",
    "        print(\"Part 1: \", part_one(t))\n",
    "    elif part == 2:\n",
    "        print(\"Part 2: \", part_two(t))\n",
    "    elif part == 3:\n",
    "        #run both\n",
    "        print(\"Part 1: \", part_one(t))\n",
    "        print(\"Part 2: \", part_two(t))\n",
    "    tdif = time.time() - time0\n",
    "    print(\"Elapsed time: {:.4f} s\".format(tdif))"
   ]
  }
 ],
 "metadata": {
  "kernelspec": {
   "display_name": "Python 3 (ipykernel)",
   "language": "python",
   "name": "python3"
  },
  "language_info": {
   "codemirror_mode": {
    "name": "ipython",
    "version": 3
   },
   "file_extension": ".py",
   "mimetype": "text/x-python",
   "name": "python",
   "nbconvert_exporter": "python",
   "pygments_lexer": "ipython3",
   "version": "3.9.2"
  }
 },
 "nbformat": 4,
 "nbformat_minor": 5
}
