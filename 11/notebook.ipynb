{
 "cells": [
  {
   "cell_type": "code",
   "execution_count": 1,
   "id": "0959b566-c31a-4cf9-aa16-da1d71f21a52",
   "metadata": {},
   "outputs": [],
   "source": [
    "#!/usr/bin/python3"
   ]
  },
  {
   "cell_type": "code",
   "execution_count": 2,
   "id": "cb88d538-8fc9-46c7-8140-4675c3a6ceb1",
   "metadata": {},
   "outputs": [],
   "source": [
    "#from collections import Counter\n",
    "#import re\n",
    "#import os\n",
    "import time\n",
    "#from collections import defaultdict\n",
    "#from collections import deque"
   ]
  },
  {
   "cell_type": "code",
   "execution_count": 3,
   "id": "f55b7992-aa00-49bd-8321-64bbd778e15e",
   "metadata": {},
   "outputs": [
    {
     "name": "stdout",
     "output_type": "stream",
     "text": [
      "https://adventofcode.com/2023/day/11\n"
     ]
    }
   ],
   "source": [
    "date = 11\n",
    "dev = 0 # extra prints\n",
    "part = 0 # 1,2, or 3 for both\n",
    "# 0 or 1:\n",
    "samp = 1\n",
    "print(\"https://adventofcode.com/2023/day/{}\".format(date))"
   ]
  },
  {
   "cell_type": "markdown",
   "id": "88404eb8-4034-4bdd-9dae-86e31d39efba",
   "metadata": {
    "tags": []
   },
   "source": [
    "## Read the input data "
   ]
  },
  {
   "cell_type": "code",
   "execution_count": 4,
   "id": "95c6dda8-9ebf-4edc-bfc1-078ba6b51e32",
   "metadata": {},
   "outputs": [
    {
     "name": "stdout",
     "output_type": "stream",
     "text": [
      "10\n"
     ]
    }
   ],
   "source": [
    "#time0 = time.time()\n",
    "\n",
    "if samp == 1:\n",
    "    filename = \"/sample.txt\"\n",
    "else:\n",
    "    filename = \"/input.txt\"\n",
    "try:\n",
    "    with open(str(date) + filename,\"r\") as f:\n",
    "        t = f.readlines()\n",
    "except FileNotFoundError:\n",
    "    with open(\".\" + filename,\"r\") as f:\n",
    "        t = f.readlines()\n",
    "\n",
    "t = [(x.strip().replace('  ',' ')) for x in t]\n",
    "#t = [int(x) for x in t]\n",
    "print(len(t))"
   ]
  },
  {
   "cell_type": "markdown",
   "id": "e4a219ce-1941-48f2-9b11-4717581c82c9",
   "metadata": {},
   "source": [
    "## Part one"
   ]
  },
  {
   "cell_type": "code",
   "execution_count": 5,
   "id": "72b8f11d-18f0-4f2e-9438-75aff4b78bc1",
   "metadata": {
    "tags": []
   },
   "outputs": [],
   "source": [
    "def part_one(te, expanse):\n",
    "    gal = {} # dict of galaxies: id as key, coordinates as values\n",
    "    galrows = set()\n",
    "    galcols = set()\n",
    "    i = 1\n",
    "    for r in range(len(te)):\n",
    "        #print(te[r].find_all(\"#\"))\n",
    "        for c in range(len(te[0])):\n",
    "            if te[r][c] == \"#\":\n",
    "                gal[i] = [r,c]\n",
    "                galrows.add(r)\n",
    "                galcols.add(c)\n",
    "                i += 1\n",
    "    if 0:\n",
    "        for k in gal.keys():\n",
    "            print(k, gal[k])\n",
    "    \n",
    "    exprows = set(range(len(te))) - galrows\n",
    "    expcols = set(range(len(te[0]))) - galcols\n",
    "    \n",
    "    ''' expanse the universe '''\n",
    "    for r in sorted(exprows)[::-1]:\n",
    "        for k in gal.keys():\n",
    "            if gal[k][0] > r:\n",
    "                gal[k][0] += expanse\n",
    "    for c in sorted(expcols)[::-1]:\n",
    "        for k in gal.keys():\n",
    "            if gal[k][1] > c:\n",
    "                gal[k][1] += expanse\n",
    "    if 0:\n",
    "        print(\" --- \")\n",
    "        for k in gal.keys():\n",
    "            print(k, gal[k])\n",
    "    # print the universe:\n",
    "    if 0:\n",
    "        gi = 1\n",
    "        for r in range(15):\n",
    "            line = \"\"\n",
    "            for c in range(15):\n",
    "                if [r,c] in gal.values():\n",
    "                    line += str(gi)\n",
    "                    gi += 1\n",
    "                else:\n",
    "                    line += \".\"\n",
    "            print(line)\n",
    "    ''' calculate the distances '''\n",
    "    checked = set()\n",
    "    ans = 0\n",
    "    for j in gal.keys():\n",
    "        for k in gal.keys():\n",
    "            if j == k:\n",
    "                continue\n",
    "            try:\n",
    "                setkey = (min(j,k),max(j,k))\n",
    "            except:\n",
    "                print(\"Err:\", j,k)\n",
    "            if setkey not in checked:\n",
    "                distx = abs(gal[j][1]-gal[k][1])\n",
    "                disty = abs(gal[j][0]-gal[k][0])\n",
    "                ans += distx + disty\n",
    "                checked.add(setkey)\n",
    "                #print((j,k), distx,disty, distx+disty)\n",
    "            \n",
    "    return ans\n",
    "#part_one(t, 1)"
   ]
  },
  {
   "cell_type": "code",
   "execution_count": 6,
   "id": "218f61c7-f372-4593-be29-134e92efb74b",
   "metadata": {},
   "outputs": [
    {
     "data": {
      "text/plain": [
       "374"
      ]
     },
     "execution_count": 6,
     "metadata": {},
     "output_type": "execute_result"
    }
   ],
   "source": [
    "part_one(t, 1)"
   ]
  },
  {
   "cell_type": "markdown",
   "id": "99b4800a-d2b1-4fb8-a6fb-af8b8d5f80cb",
   "metadata": {},
   "source": [
    "## Part two"
   ]
  },
  {
   "cell_type": "code",
   "execution_count": null,
   "id": "574b9b37-6aa3-4fe9-b6f2-9da55c177ab7",
   "metadata": {},
   "outputs": [],
   "source": []
  },
  {
   "cell_type": "code",
   "execution_count": 8,
   "id": "aa19182a-5969-4229-9b5c-8630a4e51d53",
   "metadata": {
    "tags": []
   },
   "outputs": [
    {
     "name": "stdout",
     "output_type": "stream",
     "text": [
      "1030\n",
      "8410\n",
      "82000210\n"
     ]
    }
   ],
   "source": [
    "if samp:\n",
    "    print(part_one(t, 10-1))\n",
    "    print(part_one(t, 100-1))\n",
    "print(part_one(t, 1000000-1))"
   ]
  }
 ],
 "metadata": {
  "kernelspec": {
   "display_name": "Python 3 (ipykernel)",
   "language": "python",
   "name": "python3"
  },
  "language_info": {
   "codemirror_mode": {
    "name": "ipython",
    "version": 3
   },
   "file_extension": ".py",
   "mimetype": "text/x-python",
   "name": "python",
   "nbconvert_exporter": "python",
   "pygments_lexer": "ipython3",
   "version": "3.9.2"
  }
 },
 "nbformat": 4,
 "nbformat_minor": 5
}
