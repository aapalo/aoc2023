{
 "cells": [
  {
   "cell_type": "code",
   "execution_count": 242,
   "id": "0959b566-c31a-4cf9-aa16-da1d71f21a52",
   "metadata": {},
   "outputs": [],
   "source": [
    "#!/usr/bin/python3"
   ]
  },
  {
   "cell_type": "code",
   "execution_count": 243,
   "id": "cb88d538-8fc9-46c7-8140-4675c3a6ceb1",
   "metadata": {},
   "outputs": [],
   "source": [
    "#from collections import Counter\n",
    "#import re\n",
    "#import os\n",
    "import time\n",
    "from collections import defaultdict\n",
    "#from collections import deque"
   ]
  },
  {
   "cell_type": "code",
   "execution_count": 244,
   "id": "f55b7992-aa00-49bd-8321-64bbd778e15e",
   "metadata": {},
   "outputs": [
    {
     "name": "stdout",
     "output_type": "stream",
     "text": [
      "https://adventofcode.com/2023/day/3\n"
     ]
    }
   ],
   "source": [
    "date = 3\n",
    "dev = 0 # extra prints\n",
    "part = 0 # 1,2, or 3 for both\n",
    "# 0 or 1:\n",
    "samp = 1\n",
    "print(\"https://adventofcode.com/2023/day/{}\".format(date))"
   ]
  },
  {
   "cell_type": "markdown",
   "id": "88404eb8-4034-4bdd-9dae-86e31d39efba",
   "metadata": {
    "tags": []
   },
   "source": [
    "## Read the input data "
   ]
  },
  {
   "cell_type": "code",
   "execution_count": 245,
   "id": "95c6dda8-9ebf-4edc-bfc1-078ba6b51e32",
   "metadata": {},
   "outputs": [
    {
     "name": "stdout",
     "output_type": "stream",
     "text": [
      "10\n"
     ]
    }
   ],
   "source": [
    "#time0 = time.time()\n",
    "\n",
    "if samp == 1:\n",
    "    filename = \"/sample.txt\"\n",
    "else:\n",
    "    filename = \"/input.txt\"\n",
    "try:\n",
    "    with open(str(date) + filename,\"r\") as f:\n",
    "        t = f.readlines()\n",
    "except FileNotFoundError:\n",
    "    with open(\".\" + filename,\"r\") as f:\n",
    "        t = f.readlines()\n",
    "\n",
    "t = [(x.strip().replace('  ',' ')) for x in t]\n",
    "for i in range(len(t)):\n",
    "    t[i] += \".\"\n",
    "#t = [int(x) for x in t]\n",
    "print(len(t))"
   ]
  },
  {
   "cell_type": "markdown",
   "id": "e4a219ce-1941-48f2-9b11-4717581c82c9",
   "metadata": {},
   "source": [
    "## Part one"
   ]
  },
  {
   "cell_type": "code",
   "execution_count": 252,
   "id": "5ae65db8-f67a-41e8-bf4e-228c0eae27e6",
   "metadata": {},
   "outputs": [
    {
     "name": "stdout",
     "output_type": "stream",
     "text": [
      "defaultdict(<class 'list'>, {(1, 3): [467, 35], (4, 3): [617], (8, 5): [755, 598]})\n",
      "4361\n",
      "467835\n"
     ]
    },
    {
     "data": {
      "text/plain": [
       "0"
      ]
     },
     "execution_count": 252,
     "metadata": {},
     "output_type": "execute_result"
    }
   ],
   "source": [
    "def foo(lines):\n",
    "    G = [[c for c in line] for line in lines]\n",
    "    R = len(G)\n",
    "    C = len(G[0])\n",
    "\n",
    "    p1 = 0\n",
    "    nums = defaultdict(list)\n",
    "    numset = set()\n",
    "    for r in range(len(G)):\n",
    "      gears = set() # positions of '*' characters next to the current number\n",
    "      n = 0\n",
    "      has_part = False\n",
    "      for c in range(len(G[r])+1):\n",
    "        if c<C and G[r][c].isdigit():\n",
    "          n = n*10+int(G[r][c])\n",
    "          for rr in [-1,0,1]:\n",
    "            for cc in [-1,0,1]:\n",
    "              if 0<=r+rr<R and 0<=c+cc<C:\n",
    "                ch = G[r+rr][c+cc]\n",
    "                if not ch.isdigit() and ch != '.':\n",
    "                  has_part = True\n",
    "                if ch=='*':\n",
    "                  gears.add((r+rr, c+cc))\n",
    "        elif n>0:\n",
    "          for gear in gears:\n",
    "            nums[gear].append(n)\n",
    "          if has_part:\n",
    "            p1 += n\n",
    "            numset.add(n)\n",
    "          n = 0\n",
    "          has_part = False\n",
    "          gears = set()\n",
    "    #print((numset))\n",
    "    print(nums)\n",
    "    print(p1)\n",
    "    p2 = 0\n",
    "    for k,v in nums.items():\n",
    "      if len(v)==2:\n",
    "        p2 += v[0]*v[1]\n",
    "    print(p2)\n",
    "    return 0#numset\n",
    "foo(t) #529618"
   ]
  },
  {
   "cell_type": "code",
   "execution_count": null,
   "id": "0abee815-1f96-4ead-bf79-244c1d1077eb",
   "metadata": {},
   "outputs": [],
   "source": []
  },
  {
   "cell_type": "code",
   "execution_count": 247,
   "id": "9676ebb6-f9f9-42d2-8ce2-ba650df1d45a",
   "metadata": {},
   "outputs": [],
   "source": [
    "#returns list of neighboring coordinates\n",
    "def getNeighbors(y,x):\n",
    "    nb = []\n",
    "    for i in [-1,0,1]:\n",
    "        for j in [-1,0,1]:\n",
    "            if [i,j] == [0,0]:\n",
    "                continue\n",
    "            if (x+i < 0) or (y+j < 0):\n",
    "                continue\n",
    "            nb.append([y+j,x+i])\n",
    "    return nb"
   ]
  },
  {
   "cell_type": "code",
   "execution_count": 248,
   "id": "72b8f11d-18f0-4f2e-9438-75aff4b78bc1",
   "metadata": {
    "tags": []
   },
   "outputs": [
    {
     "data": {
      "text/plain": [
       "4361"
      ]
     },
     "execution_count": 248,
     "metadata": {},
     "output_type": "execute_result"
    }
   ],
   "source": [
    "def part_one(te):\n",
    "    ans = 0\n",
    "    numbers = set()\n",
    "    rows = len(te)\n",
    "    cols = len(te[0])\n",
    "    number = ''\n",
    "    valid = 0\n",
    "    for r in range(rows):\n",
    "        valid = 1\n",
    "        for c in range(cols):\n",
    "            symbol = te[r][c]\n",
    "            if symbol.isdigit():\n",
    "                number += str(symbol)\n",
    "                #print(r,c,getNeighbors(r,c))\n",
    "                for nbor in getNeighbors(r,c):\n",
    "                    try:\n",
    "                        sym = te[nbor[0]][nbor[1]]\n",
    "                    except IndexError:\n",
    "                        continue\n",
    "                    # not a number or a period:\n",
    "                    if not sym.isdigit() and (sym != '.'):\n",
    "                        valid = 1\n",
    "                        if dev:\n",
    "                            print(\"Not valid: \", sym, number)\n",
    "                        break\n",
    "            else:\n",
    "                if number != '':\n",
    "                    if valid:\n",
    "                        number = int(number)\n",
    "                        if dev:\n",
    "                            print(\"Added: \", number)\n",
    "                        numbers.add(number)\n",
    "                        ans += number                            \n",
    "                number = ''\n",
    "                valid = 0\n",
    "        \n",
    "    return ans\n",
    "part_one(t) "
   ]
  },
  {
   "cell_type": "markdown",
   "id": "99b4800a-d2b1-4fb8-a6fb-af8b8d5f80cb",
   "metadata": {},
   "source": [
    "## Part two"
   ]
  },
  {
   "cell_type": "code",
   "execution_count": 249,
   "id": "574b9b37-6aa3-4fe9-b6f2-9da55c177ab7",
   "metadata": {},
   "outputs": [],
   "source": [
    "#77509019\n",
    "# käy lista läpi. Jos '*', ota numero ja '*' koordinaatti talteen dictiin"
   ]
  },
  {
   "cell_type": "code",
   "execution_count": 250,
   "id": "aa19182a-5969-4229-9b5c-8630a4e51d53",
   "metadata": {
    "tags": []
   },
   "outputs": [
    {
     "data": {
      "text/plain": [
       "0"
      ]
     },
     "execution_count": 250,
     "metadata": {},
     "output_type": "execute_result"
    }
   ],
   "source": [
    "def part_two(te):\n",
    "    \n",
    "    ans = 0\n",
    "    \n",
    "    return ans\n",
    "part_two(t)"
   ]
  },
  {
   "cell_type": "markdown",
   "id": "52366ae7-ceec-409e-b637-0e61036c962f",
   "metadata": {},
   "source": [
    "## Run the programs"
   ]
  },
  {
   "cell_type": "code",
   "execution_count": 251,
   "id": "e7c79c46-6c97-4a27-92c3-cf2c5a54a320",
   "metadata": {},
   "outputs": [
    {
     "name": "stdout",
     "output_type": "stream",
     "text": [
      "Elapsed time: 0.0000 s\n"
     ]
    }
   ],
   "source": [
    "if 1:\n",
    "    time0 = time.time()\n",
    "    if part == 1:\n",
    "        print(\"Part 1: \", part_one(t))\n",
    "    elif part == 2:\n",
    "        print(\"Part 2: \", part_two(t))\n",
    "    elif part == 3:\n",
    "        #run both\n",
    "        print(\"Part 1: \", part_one(t))\n",
    "        print(\"Part 2: \", part_two(t))\n",
    "    tdif = time.time() - time0\n",
    "    print(\"Elapsed time: {:.4f} s\".format(tdif))"
   ]
  }
 ],
 "metadata": {
  "kernelspec": {
   "display_name": "Python 3 (ipykernel)",
   "language": "python",
   "name": "python3"
  },
  "language_info": {
   "codemirror_mode": {
    "name": "ipython",
    "version": 3
   },
   "file_extension": ".py",
   "mimetype": "text/x-python",
   "name": "python",
   "nbconvert_exporter": "python",
   "pygments_lexer": "ipython3",
   "version": "3.9.2"
  }
 },
 "nbformat": 4,
 "nbformat_minor": 5
}
