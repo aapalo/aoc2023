{
 "cells": [
  {
   "cell_type": "code",
   "execution_count": 70,
   "id": "0959b566-c31a-4cf9-aa16-da1d71f21a52",
   "metadata": {},
   "outputs": [],
   "source": [
    "#!/usr/bin/python3"
   ]
  },
  {
   "cell_type": "code",
   "execution_count": 71,
   "id": "cb88d538-8fc9-46c7-8140-4675c3a6ceb1",
   "metadata": {},
   "outputs": [],
   "source": [
    "from collections import Counter\n",
    "#import re\n",
    "#import os\n",
    "import time\n",
    "from collections import defaultdict\n",
    "#from collections import deque"
   ]
  },
  {
   "cell_type": "code",
   "execution_count": 72,
   "id": "f55b7992-aa00-49bd-8321-64bbd778e15e",
   "metadata": {},
   "outputs": [
    {
     "name": "stdout",
     "output_type": "stream",
     "text": [
      "https://adventofcode.com/2023/day/4\n"
     ]
    }
   ],
   "source": [
    "date = 4\n",
    "dev = 0 # extra prints\n",
    "part = 0 # 1,2, or 3 for both\n",
    "# 0 or 1:\n",
    "samp = 1\n",
    "print(\"https://adventofcode.com/2023/day/{}\".format(date))"
   ]
  },
  {
   "cell_type": "markdown",
   "id": "88404eb8-4034-4bdd-9dae-86e31d39efba",
   "metadata": {
    "tags": []
   },
   "source": [
    "## Read the input data "
   ]
  },
  {
   "cell_type": "code",
   "execution_count": 73,
   "id": "95c6dda8-9ebf-4edc-bfc1-078ba6b51e32",
   "metadata": {},
   "outputs": [
    {
     "name": "stdout",
     "output_type": "stream",
     "text": [
      "6\n"
     ]
    }
   ],
   "source": [
    "#time0 = time.time()\n",
    "\n",
    "if samp == 1:\n",
    "    filename = \"/sample.txt\"\n",
    "else:\n",
    "    filename = \"/input.txt\"\n",
    "try:\n",
    "    with open(str(date) + filename,\"r\") as f:\n",
    "        t = f.readlines()\n",
    "except FileNotFoundError:\n",
    "    with open(\".\" + filename,\"r\") as f:\n",
    "        t = f.readlines()\n",
    "\n",
    "t = [(x.strip().replace('  ',' ')) for x in t]\n",
    "#t = [int(x) for x in t]\n",
    "print(len(t))"
   ]
  },
  {
   "cell_type": "markdown",
   "id": "e4a219ce-1941-48f2-9b11-4717581c82c9",
   "metadata": {},
   "source": [
    "## Part one"
   ]
  },
  {
   "cell_type": "code",
   "execution_count": null,
   "id": "9676ebb6-f9f9-42d2-8ce2-ba650df1d45a",
   "metadata": {},
   "outputs": [],
   "source": []
  },
  {
   "cell_type": "code",
   "execution_count": 74,
   "id": "72b8f11d-18f0-4f2e-9438-75aff4b78bc1",
   "metadata": {
    "tags": []
   },
   "outputs": [
    {
     "data": {
      "text/plain": [
       "13"
      ]
     },
     "execution_count": 74,
     "metadata": {},
     "output_type": "execute_result"
    }
   ],
   "source": [
    "def part_one(te):\n",
    "    points = 0\n",
    "    for r in te:\n",
    "        [winners, numbers] = r.split(\":\")[1].split(\"|\")\n",
    "        winners = winners.split()\n",
    "        numbers = numbers.split()\n",
    "        cardpoints = 0\n",
    "        for n in numbers:\n",
    "            if n in winners:\n",
    "                if cardpoints == 0:\n",
    "                    cardpoints = 1\n",
    "                else:\n",
    "                    cardpoints *= 2\n",
    "            #print(points, n, winners, n in winners)\n",
    "        points += cardpoints\n",
    "        \n",
    "        #print(winners, numbers)\n",
    "    return points\n",
    "part_one(t)"
   ]
  },
  {
   "cell_type": "markdown",
   "id": "99b4800a-d2b1-4fb8-a6fb-af8b8d5f80cb",
   "metadata": {},
   "source": [
    "## Part two"
   ]
  },
  {
   "cell_type": "code",
   "execution_count": 89,
   "id": "574b9b37-6aa3-4fe9-b6f2-9da55c177ab7",
   "metadata": {},
   "outputs": [],
   "source": [
    "def getmatches(row):\n",
    "    [winners, numbers] = row.split(\":\")[1].split(\"|\")\n",
    "    winners = winners.split()\n",
    "    numbers = numbers.split()\n",
    "    mats = 0\n",
    "    for n in numbers:\n",
    "        if n in winners:\n",
    "            mats += 1\n",
    "    return mats"
   ]
  },
  {
   "cell_type": "code",
   "execution_count": 91,
   "id": "aa19182a-5969-4229-9b5c-8630a4e51d53",
   "metadata": {
    "tags": []
   },
   "outputs": [
    {
     "name": "stdout",
     "output_type": "stream",
     "text": [
      "Round 1: 6 cards\n",
      "('Card 1: 41 48 83 86 17 | 83 86 6 31 17 9 48 53', 1)\n",
      "('Card 2: 13 32 20 16 61 | 61 30 68 82 17 32 24 19', 1)\n",
      "('Card 3: 1 21 53 59 44 | 69 82 63 72 16 21 14 1', 1)\n",
      "('Card 4: 41 92 73 84 69 | 59 84 76 51 58 5 54 83', 1)\n",
      "('Card 5: 87 83 26 28 32 | 88 30 70 12 93 22 82 36', 1)\n",
      "('Card 6: 31 18 13 56 72 | 74 77 10 23 35 67 36 11', 1)\n",
      "Round 2: 6 cards\n",
      "('Card 1: 41 48 83 86 17 | 83 86 6 31 17 9 48 53', 1)\n",
      "('Card 2: 13 32 20 16 61 | 61 30 68 82 17 32 24 19', 1)\n",
      "('Card 3: 1 21 53 59 44 | 69 82 63 72 16 21 14 1', 1)\n",
      "('Card 4: 41 92 73 84 69 | 59 84 76 51 58 5 54 83', 1)\n",
      "('Card 5: 87 83 26 28 32 | 88 30 70 12 93 22 82 36', 1)\n",
      "('Card 6: 31 18 13 56 72 | 74 77 10 23 35 67 36 11', 1)\n",
      "Round 3: 6 cards\n",
      "('Card 1: 41 48 83 86 17 | 83 86 6 31 17 9 48 53', 1)\n",
      "('Card 2: 13 32 20 16 61 | 61 30 68 82 17 32 24 19', 1)\n",
      "('Card 3: 1 21 53 59 44 | 69 82 63 72 16 21 14 1', 1)\n",
      "('Card 4: 41 92 73 84 69 | 59 84 76 51 58 5 54 83', 1)\n",
      "('Card 5: 87 83 26 28 32 | 88 30 70 12 93 22 82 36', 1)\n",
      "('Card 6: 31 18 13 56 72 | 74 77 10 23 35 67 36 11', 1)\n",
      "Round 4: 6 cards\n",
      "('Card 1: 41 48 83 86 17 | 83 86 6 31 17 9 48 53', 1)\n",
      "('Card 2: 13 32 20 16 61 | 61 30 68 82 17 32 24 19', 1)\n",
      "('Card 3: 1 21 53 59 44 | 69 82 63 72 16 21 14 1', 1)\n",
      "('Card 4: 41 92 73 84 69 | 59 84 76 51 58 5 54 83', 1)\n",
      "('Card 5: 87 83 26 28 32 | 88 30 70 12 93 22 82 36', 1)\n",
      "('Card 6: 31 18 13 56 72 | 74 77 10 23 35 67 36 11', 1)\n",
      "Round 5: 6 cards\n",
      "('Card 1: 41 48 83 86 17 | 83 86 6 31 17 9 48 53', 1)\n",
      "('Card 2: 13 32 20 16 61 | 61 30 68 82 17 32 24 19', 1)\n",
      "('Card 3: 1 21 53 59 44 | 69 82 63 72 16 21 14 1', 1)\n",
      "('Card 4: 41 92 73 84 69 | 59 84 76 51 58 5 54 83', 1)\n",
      "('Card 5: 87 83 26 28 32 | 88 30 70 12 93 22 82 36', 1)\n",
      "('Card 6: 31 18 13 56 72 | 74 77 10 23 35 67 36 11', 1)\n",
      "Round 6: 6 cards\n",
      "('Card 1: 41 48 83 86 17 | 83 86 6 31 17 9 48 53', 1)\n",
      "('Card 2: 13 32 20 16 61 | 61 30 68 82 17 32 24 19', 1)\n",
      "('Card 3: 1 21 53 59 44 | 69 82 63 72 16 21 14 1', 1)\n",
      "('Card 4: 41 92 73 84 69 | 59 84 76 51 58 5 54 83', 1)\n",
      "('Card 5: 87 83 26 28 32 | 88 30 70 12 93 22 82 36', 1)\n",
      "('Card 6: 31 18 13 56 72 | 74 77 10 23 35 67 36 11', 1)\n"
     ]
    },
    {
     "data": {
      "text/plain": [
       "6"
      ]
     },
     "execution_count": 91,
     "metadata": {},
     "output_type": "execute_result"
    }
   ],
   "source": [
    "def part_two(te):\n",
    "    points = 0\n",
    "    deck = te[:]\n",
    "    i = 0\n",
    "    while 1:\n",
    "        try:\n",
    "            r = deck[i]\n",
    "        except IndexError:\n",
    "            break\n",
    "            #print(points, n, winners, n in winners)\n",
    "        matches = getmatches(r)\n",
    "        for j in range(matches):\n",
    "            points += getmatches(te[i+j+1])\n",
    "            #deck.append(deck[i+j+1])\n",
    "        i += 1\n",
    "        #print(winners, numbers)\n",
    "        card_count = Counter(deck)\n",
    "        print(\"Round {}: {} cards\".format(i,len(deck)))\n",
    "        for c in card_count.most_common():\n",
    "            print(c)\n",
    "    return len(deck)\n",
    "part_two(t)"
   ]
  },
  {
   "cell_type": "markdown",
   "id": "52366ae7-ceec-409e-b637-0e61036c962f",
   "metadata": {},
   "source": [
    "## Run the programs"
   ]
  },
  {
   "cell_type": "code",
   "execution_count": 76,
   "id": "e7c79c46-6c97-4a27-92c3-cf2c5a54a320",
   "metadata": {},
   "outputs": [
    {
     "name": "stdout",
     "output_type": "stream",
     "text": [
      "Elapsed time: 0.0000 s\n"
     ]
    }
   ],
   "source": [
    "if 1:\n",
    "    time0 = time.time()\n",
    "    if part == 1:\n",
    "        print(\"Part 1: \", part_one(t))\n",
    "    elif part == 2:\n",
    "        print(\"Part 2: \", part_two(t))\n",
    "    elif part == 3:\n",
    "        #run both\n",
    "        print(\"Part 1: \", part_one(t))\n",
    "        print(\"Part 2: \", part_two(t))\n",
    "    tdif = time.time() - time0\n",
    "    print(\"Elapsed time: {:.4f} s\".format(tdif))"
   ]
  }
 ],
 "metadata": {
  "kernelspec": {
   "display_name": "Python 3 (ipykernel)",
   "language": "python",
   "name": "python3"
  },
  "language_info": {
   "codemirror_mode": {
    "name": "ipython",
    "version": 3
   },
   "file_extension": ".py",
   "mimetype": "text/x-python",
   "name": "python",
   "nbconvert_exporter": "python",
   "pygments_lexer": "ipython3",
   "version": "3.9.2"
  }
 },
 "nbformat": 4,
 "nbformat_minor": 5
}
