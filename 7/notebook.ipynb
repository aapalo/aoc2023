{
 "cells": [
  {
   "cell_type": "code",
   "execution_count": 186,
   "id": "0959b566-c31a-4cf9-aa16-da1d71f21a52",
   "metadata": {},
   "outputs": [],
   "source": [
    "#!/usr/bin/python3"
   ]
  },
  {
   "cell_type": "code",
   "execution_count": 187,
   "id": "cb88d538-8fc9-46c7-8140-4675c3a6ceb1",
   "metadata": {},
   "outputs": [],
   "source": [
    "from collections import Counter\n",
    "#import re\n",
    "#import os\n",
    "import time\n",
    "from collections import defaultdict\n",
    "#from collections import deque"
   ]
  },
  {
   "cell_type": "code",
   "execution_count": 188,
   "id": "f55b7992-aa00-49bd-8321-64bbd778e15e",
   "metadata": {},
   "outputs": [
    {
     "name": "stdout",
     "output_type": "stream",
     "text": [
      "https://adventofcode.com/2023/day/7\n"
     ]
    }
   ],
   "source": [
    "date = 7\n",
    "dev = 0 # extra prints\n",
    "part = 3 # 1,2, or 3 for both\n",
    "# 0 or 1:\n",
    "samp = 1\n",
    "print(\"https://adventofcode.com/2023/day/{}\".format(date))"
   ]
  },
  {
   "cell_type": "markdown",
   "id": "88404eb8-4034-4bdd-9dae-86e31d39efba",
   "metadata": {
    "tags": []
   },
   "source": [
    "## Read the input data "
   ]
  },
  {
   "cell_type": "code",
   "execution_count": 189,
   "id": "95c6dda8-9ebf-4edc-bfc1-078ba6b51e32",
   "metadata": {},
   "outputs": [
    {
     "name": "stdout",
     "output_type": "stream",
     "text": [
      "19\n"
     ]
    }
   ],
   "source": [
    "#time0 = time.time()\n",
    "\n",
    "if samp == 1:\n",
    "    filename = \"/sample.txt\"\n",
    "else:\n",
    "    filename = \"/input.txt\"\n",
    "try:\n",
    "    with open(str(date) + filename,\"r\") as f:\n",
    "        t = f.readlines()\n",
    "except FileNotFoundError:\n",
    "    with open(\".\" + filename,\"r\") as f:\n",
    "        t = f.readlines()\n",
    "\n",
    "t = [(x.strip().replace('  ',' ')) for x in t]\n",
    "#t = [int(x) for x in t]\n",
    "print(len(t))"
   ]
  },
  {
   "cell_type": "markdown",
   "id": "e4a219ce-1941-48f2-9b11-4717581c82c9",
   "metadata": {},
   "source": [
    "## Part one"
   ]
  },
  {
   "cell_type": "code",
   "execution_count": 190,
   "id": "5ae65db8-f67a-41e8-bf4e-228c0eae27e6",
   "metadata": {},
   "outputs": [],
   "source": [
    "def getCardVal(c):\n",
    "    val = 0\n",
    "    cord = \"AKQJT98765432\"\n",
    "    if c in \"98765432\":\n",
    "        val = int(c)\n",
    "    else:\n",
    "        if (c == \"T\"): val = 10\n",
    "        if (c == \"J\"): val = 11\n",
    "        if (c == \"Q\"): val = 12\n",
    "        if (c == \"K\"): val = 13\n",
    "        if (c == \"A\"): val = 14\n",
    "    return val"
   ]
  },
  {
   "cell_type": "code",
   "execution_count": 191,
   "id": "1be19663-6ae9-4562-8dc6-a925481b902a",
   "metadata": {},
   "outputs": [],
   "source": [
    "# return 0 if c1 better, 1 if c2 better\n",
    "def rankHand(h1,h2):\n",
    "    for i in range(5):\n",
    "        if h1[i] != h2[i]:\n",
    "            if getCardVal(h1[i]) > getCardVal(h2[i]):\n",
    "                return 0\n",
    "            else:\n",
    "                return 1\n",
    "    return -1"
   ]
  },
  {
   "cell_type": "code",
   "execution_count": 192,
   "id": "72b8f11d-18f0-4f2e-9438-75aff4b78bc1",
   "metadata": {
    "tags": []
   },
   "outputs": [
    {
     "data": {
      "text/plain": [
       "6592"
      ]
     },
     "execution_count": 192,
     "metadata": {},
     "output_type": "execute_result"
    }
   ],
   "source": [
    "def part_one(te):\n",
    "    ans = 0\n",
    "    games = defaultdict(list)\n",
    "    ''' rank the hands into a dict'''\n",
    "    for r in te:\n",
    "        r = r.split()\n",
    "        cards = r[0]\n",
    "        cardcount = Counter(cards)\n",
    "        #print(cards, cardcount.most_common())\n",
    "        pts = getCardVal(cards[0])\n",
    "        if cardcount.most_common()[0][1] == 5:\n",
    "            # 5 same\n",
    "            pts += 700\n",
    "        elif cardcount.most_common()[0][1] == 4:\n",
    "            # 4 same\n",
    "            pts += 600\n",
    "        elif cardcount.most_common()[0][1] == 3:\n",
    "            # 3 same\n",
    "            if cardcount.most_common()[1][1] == 2:\n",
    "                #full house\n",
    "                pts += 500\n",
    "            else: \n",
    "                # regular 3 same\n",
    "                pts += 400\n",
    "        elif cardcount.most_common()[0][1] == 2:\n",
    "            if cardcount.most_common()[1][1] == 2:\n",
    "                #two pairs\n",
    "                pts += 300\n",
    "            else:\n",
    "                #one pair\n",
    "                pts += 200\n",
    "        else:\n",
    "            # high card\n",
    "            pts += 100\n",
    "        bet = int(r[1])\n",
    "        games[pts].append((cards,bet))\n",
    "    \n",
    "    rank = 1\n",
    "    \n",
    "    for k in (sorted(games.keys())):\n",
    "        if len(games[k]) > 1:\n",
    "            sublist = []\n",
    "            for j in range(len(games[k])):\n",
    "                #print(k,j,games[k][j])\n",
    "                hand = games[k][j][0]\n",
    "                bet = games[k][j][1]\n",
    "                \n",
    "                if len(sublist) == 0:\n",
    "                    sublist.append((hand,bet))\n",
    "                else:\n",
    "                    idx = 0\n",
    "                    for m in range(len(sublist)):\n",
    "                        if hand == sublist[m][0]:\n",
    "                            #print(\"Same\")\n",
    "                            continue\n",
    "                        if rankHand(sublist[m][0], hand):\n",
    "                            #print(\"Comp:\",(sublist[m][0]), hand)\n",
    "                            idx = m + 1\n",
    "                            \n",
    "                            \n",
    "                    sublist.insert(idx, (hand,bet))\n",
    "            \n",
    "            #print(sublist)\n",
    "            for s in sublist:\n",
    "                #print(s)\n",
    "                winnings = rank*s[1]\n",
    "                ans += winnings\n",
    "                rank += 1\n",
    "            \n",
    "        else:\n",
    "            #print(games[k][0][0],games[k][0][1],\" *\")\n",
    "            winnings = rank*games[k][0][1]\n",
    "            ans += winnings\n",
    "            rank += 1\n",
    "    \n",
    "    return ans\n",
    "#part_one(t)"
   ]
  },
  {
   "cell_type": "markdown",
   "id": "99b4800a-d2b1-4fb8-a6fb-af8b8d5f80cb",
   "metadata": {},
   "source": [
    "## Part two"
   ]
  },
  {
   "cell_type": "code",
   "execution_count": 193,
   "id": "6af6a91e-7335-4723-b1cf-ed1318cb9ead",
   "metadata": {},
   "outputs": [],
   "source": [
    "def getCardVal2(c):\n",
    "    val = 0\n",
    "    cord = \"AKQJT98765432\"\n",
    "    if c in \"98765432\":\n",
    "        val = int(c)\n",
    "    else:\n",
    "        if (c == \"T\"): val = 10\n",
    "        if (c == \"J\"): val = 1\n",
    "        if (c == \"Q\"): val = 12\n",
    "        if (c == \"K\"): val = 13\n",
    "        if (c == \"A\"): val = 14\n",
    "    return val"
   ]
  },
  {
   "cell_type": "code",
   "execution_count": 194,
   "id": "cb350cee-acf9-44ea-bcd9-b9d2312827a7",
   "metadata": {},
   "outputs": [],
   "source": [
    "# return 0 if c1 better, 1 if c2 better\n",
    "def rankHand2(h1,h2):\n",
    "    for i in range(5):\n",
    "        if h1[i] != h2[i]:\n",
    "            if getCardVal2(h1[i]) > getCardVal2(h2[i]):\n",
    "                return 0\n",
    "            else:\n",
    "                return 1\n",
    "    return -1"
   ]
  },
  {
   "cell_type": "code",
   "execution_count": 203,
   "id": "aa19182a-5969-4229-9b5c-8630a4e51d53",
   "metadata": {
    "tags": []
   },
   "outputs": [
    {
     "name": "stdout",
     "output_type": "stream",
     "text": [
      "J345A 2  *\n",
      "('2345J', 3)\n",
      "('2345A', 1)\n",
      "32T3K 5  *\n",
      "KK677 7  *\n",
      "T3Q33 11  *\n",
      "Q2KJJ 13  *\n",
      "T3T3J 17  *\n",
      "Q2Q2Q 19  *\n",
      "2AAAA 23  *\n",
      "T55J5 29  *\n",
      "QQQJA 31  *\n",
      "KTJJT 34  *\n",
      "('JJJJ2', 41)\n",
      "('JJJJJ', 37)\n",
      "('JAAAA', 43)\n",
      "2JJJJ 53  *\n",
      "('AAAAJ', 59)\n",
      "('AAAAA', 61)\n"
     ]
    },
    {
     "data": {
      "text/plain": [
       "6832"
      ]
     },
     "execution_count": 203,
     "metadata": {},
     "output_type": "execute_result"
    }
   ],
   "source": [
    "def part_two(te):\n",
    "    ans = 0\n",
    "    games = defaultdict(list)\n",
    "    ''' rank the hands into a dict'''\n",
    "    for r in te:\n",
    "        r = r.split()\n",
    "        cards = r[0]\n",
    "        cardcount = Counter(cards)\n",
    "        jokers = cardcount[\"J\"]\n",
    "        #print(cards, cardcount.most_common())\n",
    "        pts = getCardVal2(cards[0])\n",
    "        cardcount[\"J\"]=0\n",
    "        if cardcount.most_common()[0][1] + jokers == 5:\n",
    "            # 5 same\n",
    "            pts += 700\n",
    "        elif cardcount.most_common()[0][1] + jokers == 4:\n",
    "            # 4 same\n",
    "            pts += 600\n",
    "        elif cardcount.most_common()[0][1]+ jokers == 3:\n",
    "            # 3 same\n",
    "            if cardcount.most_common()[1][1] == 2:\n",
    "                #full house\n",
    "                pts += 500\n",
    "            else: \n",
    "                # regular 3 same\n",
    "                pts += 400\n",
    "        elif cardcount.most_common()[0][1] == 2:\n",
    "            if cardcount.most_common()[1][1] == 2:\n",
    "                #two pairs\n",
    "                pts += 300\n",
    "            else:\n",
    "                #one pair\n",
    "                pts += 200\n",
    "        else:\n",
    "            # high card\n",
    "            pts += 100\n",
    "        bet = int(r[1])\n",
    "        games[pts].append((cards,bet))\n",
    "    \n",
    "    rank = 1\n",
    "    \n",
    "    for k in (sorted(games.keys())):\n",
    "        if len(games[k]) > 1:\n",
    "            sublist = []\n",
    "            for j in range(len(games[k])):\n",
    "                #print(k,j,games[k][j])\n",
    "                hand = games[k][j][0]\n",
    "                bet = games[k][j][1]\n",
    "                \n",
    "                if len(sublist) == 0:\n",
    "                    sublist.append((hand,bet))\n",
    "                else:\n",
    "                    idx = 0\n",
    "                    for m in range(len(sublist)):\n",
    "                        if hand == sublist[m][0]:\n",
    "                            #print(\"Same\")\n",
    "                            continue\n",
    "                        if rankHand(sublist[m][0], hand):\n",
    "                            #print(\"Comp:\",(sublist[m][0]), hand)\n",
    "                            idx = m + 1\n",
    "                            \n",
    "                            \n",
    "                    sublist.insert(idx, (hand,bet))\n",
    "            \n",
    "            #print(sublist)\n",
    "            for s in sublist:\n",
    "                print(s)\n",
    "                winnings = rank*s[1]\n",
    "                ans += winnings\n",
    "                rank += 1\n",
    "            \n",
    "        else:\n",
    "            print(games[k][0][0],games[k][0][1],\" *\")\n",
    "            winnings = rank*games[k][0][1]\n",
    "            ans += winnings\n",
    "            rank += 1\n",
    "    \n",
    "    return ans\n",
    "part_two(t)"
   ]
  },
  {
   "cell_type": "markdown",
   "id": "52366ae7-ceec-409e-b637-0e61036c962f",
   "metadata": {},
   "source": [
    "## Run the programs"
   ]
  },
  {
   "cell_type": "code",
   "execution_count": 196,
   "id": "e7c79c46-6c97-4a27-92c3-cf2c5a54a320",
   "metadata": {},
   "outputs": [
    {
     "name": "stdout",
     "output_type": "stream",
     "text": [
      "Part 1:  6592\n",
      "Part 2:  6592\n",
      "Elapsed time: 0.0009 s\n"
     ]
    }
   ],
   "source": [
    "if 1:\n",
    "    time0 = time.time()\n",
    "    if part == 1:\n",
    "        print(\"Part 1: \", part_one(t))\n",
    "    elif part == 2:\n",
    "        print(\"Part 2: \", part_two(t))\n",
    "    elif part == 3:\n",
    "        #run both\n",
    "        print(\"Part 1: \", part_one(t))\n",
    "        print(\"Part 2: \", part_two(t))\n",
    "    tdif = time.time() - time0\n",
    "    print(\"Elapsed time: {:.4f} s\".format(tdif))"
   ]
  }
 ],
 "metadata": {
  "kernelspec": {
   "display_name": "Python 3 (ipykernel)",
   "language": "python",
   "name": "python3"
  },
  "language_info": {
   "codemirror_mode": {
    "name": "ipython",
    "version": 3
   },
   "file_extension": ".py",
   "mimetype": "text/x-python",
   "name": "python",
   "nbconvert_exporter": "python",
   "pygments_lexer": "ipython3",
   "version": "3.9.2"
  }
 },
 "nbformat": 4,
 "nbformat_minor": 5
}
