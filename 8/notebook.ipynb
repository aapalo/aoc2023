{
 "cells": [
  {
   "cell_type": "code",
   "execution_count": 1,
   "id": "0959b566-c31a-4cf9-aa16-da1d71f21a52",
   "metadata": {},
   "outputs": [],
   "source": [
    "#!/usr/bin/python3"
   ]
  },
  {
   "cell_type": "code",
   "execution_count": 2,
   "id": "cb88d538-8fc9-46c7-8140-4675c3a6ceb1",
   "metadata": {},
   "outputs": [],
   "source": [
    "#from collections import Counter\n",
    "#import re\n",
    "#import os\n",
    "import time\n",
    "from collections import defaultdict\n",
    "#from collections import deque"
   ]
  },
  {
   "cell_type": "code",
   "execution_count": 3,
   "id": "f55b7992-aa00-49bd-8321-64bbd778e15e",
   "metadata": {},
   "outputs": [
    {
     "name": "stdout",
     "output_type": "stream",
     "text": [
      "https://adventofcode.com/2023/day/8\n"
     ]
    }
   ],
   "source": [
    "date = 8\n",
    "dev = 0 # extra prints\n",
    "part = 0 # 1,2, or 3 for both\n",
    "# 0 or 1:\n",
    "samp = 0\n",
    "print(\"https://adventofcode.com/2023/day/{}\".format(date))"
   ]
  },
  {
   "cell_type": "markdown",
   "id": "88404eb8-4034-4bdd-9dae-86e31d39efba",
   "metadata": {
    "tags": []
   },
   "source": [
    "## Read the input data "
   ]
  },
  {
   "cell_type": "code",
   "execution_count": 4,
   "id": "95c6dda8-9ebf-4edc-bfc1-078ba6b51e32",
   "metadata": {},
   "outputs": [
    {
     "name": "stdout",
     "output_type": "stream",
     "text": [
      "776\n"
     ]
    }
   ],
   "source": [
    "#time0 = time.time()\n",
    "\n",
    "if samp == 1:\n",
    "    filename = \"/sample.txt\"\n",
    "else:\n",
    "    filename = \"/input.txt\"\n",
    "try:\n",
    "    with open(str(date) + filename,\"r\") as f:\n",
    "        t = f.readlines()\n",
    "except FileNotFoundError:\n",
    "    with open(\".\" + filename,\"r\") as f:\n",
    "        t = f.readlines()\n",
    "\n",
    "t = [(x.strip().replace('  ',' ')) for x in t]\n",
    "#t = [int(x) for x in t]\n",
    "print(len(t))"
   ]
  },
  {
   "cell_type": "markdown",
   "id": "e4a219ce-1941-48f2-9b11-4717581c82c9",
   "metadata": {},
   "source": [
    "## Part one"
   ]
  },
  {
   "cell_type": "code",
   "execution_count": null,
   "id": "5ae65db8-f67a-41e8-bf4e-228c0eae27e6",
   "metadata": {},
   "outputs": [],
   "source": []
  },
  {
   "cell_type": "code",
   "execution_count": 5,
   "id": "72b8f11d-18f0-4f2e-9438-75aff4b78bc1",
   "metadata": {
    "tags": []
   },
   "outputs": [
    {
     "data": {
      "text/plain": [
       "17287"
      ]
     },
     "execution_count": 5,
     "metadata": {},
     "output_type": "execute_result"
    }
   ],
   "source": [
    "def part_one(te):\n",
    "    network = defaultdict(str)\n",
    "    inst = te[0]\n",
    "    instlen = len(inst)\n",
    "    ans = 0\n",
    "    for r in te[2:]:\n",
    "        r = r.replace(\"=\",\"\").replace(\"(\",\"\").replace(\")\",\"\").replace(\",\",\"\").split()\n",
    "        network[r[0]] = (r[1],r[2])\n",
    "    if samp and dev:\n",
    "        for k in sorted(network.keys()):\n",
    "            print(k, network[k])\n",
    "    node = \"AAA\"\n",
    "    while 1:\n",
    "        i = ans % instlen\n",
    "        lr = inst[i]\n",
    "        if lr == \"R\": lridx = 1\n",
    "        if lr == \"L\": lridx = 0\n",
    "        \n",
    "        node = network[node][lridx]\n",
    "        #print(i, lr, lridx, node)\n",
    "        ans += 1\n",
    "        if node == \"ZZZ\":\n",
    "            break\n",
    "        \n",
    "    return ans\n",
    "part_one(t)"
   ]
  },
  {
   "cell_type": "markdown",
   "id": "99b4800a-d2b1-4fb8-a6fb-af8b8d5f80cb",
   "metadata": {},
   "source": [
    "## Part two"
   ]
  },
  {
   "cell_type": "code",
   "execution_count": 6,
   "id": "6af6a91e-7335-4723-b1cf-ed1318cb9ead",
   "metadata": {},
   "outputs": [],
   "source": [
    "from math import lcm"
   ]
  },
  {
   "cell_type": "code",
   "execution_count": 7,
   "id": "cb350cee-acf9-44ea-bcd9-b9d2312827a7",
   "metadata": {},
   "outputs": [
    {
     "data": {
      "text/plain": [
       "18625484023687"
      ]
     },
     "execution_count": 7,
     "metadata": {},
     "output_type": "execute_result"
    }
   ],
   "source": [
    "def part_two(te):\n",
    "    network = defaultdict(str)\n",
    "    inst = te[0]\n",
    "    instlen = len(inst)\n",
    "    ans = 0\n",
    "    for r in te[2:]:\n",
    "        r = r.replace(\"=\",\"\").replace(\"(\",\"\").replace(\")\",\"\").replace(\",\",\"\").split()\n",
    "        network[r[0]] = (r[1],r[2])\n",
    "    if samp and dev:\n",
    "        for k in sorted(network.keys()):\n",
    "            print(k, network[k])\n",
    "    nodes = []\n",
    "    for k in network.keys():\n",
    "        if k[2] == \"A\":\n",
    "            nodes.append(k)\n",
    "    #print(nodes)\n",
    "    nodelen = len(nodes)\n",
    "    anslist = []\n",
    "    for node in nodes:\n",
    "        j = 0\n",
    "        while 1:\n",
    "            i = j % instlen\n",
    "            lr = inst[i]\n",
    "            if lr == \"R\": lridx = 1\n",
    "            if lr == \"L\": lridx = 0\n",
    "            #for n in range(nodelen):\n",
    "                #nodes[n] = network[nodes[n]][lridx]\n",
    "            node = network[node][lridx]\n",
    "            #print(i, lr, lridx, node)\n",
    "            j += 1\n",
    "            #print(nodes)\n",
    "\n",
    "            allz = True\n",
    "            if node[2] == \"Z\":\n",
    "                anslist.append(j)\n",
    "                #print(j, node)\n",
    "                break\n",
    "    #print(anslist)\n",
    "    ans = lcm(*anslist)\n",
    "    return ans\n",
    "part_two(t)"
   ]
  },
  {
   "cell_type": "markdown",
   "id": "52366ae7-ceec-409e-b637-0e61036c962f",
   "metadata": {},
   "source": [
    "## Run the programs"
   ]
  },
  {
   "cell_type": "code",
   "execution_count": 8,
   "id": "e7c79c46-6c97-4a27-92c3-cf2c5a54a320",
   "metadata": {},
   "outputs": [
    {
     "name": "stdout",
     "output_type": "stream",
     "text": [
      "Elapsed time: 0.0000 s\n"
     ]
    }
   ],
   "source": [
    "if 1:\n",
    "    time0 = time.time()\n",
    "    if part == 1:\n",
    "        print(\"Part 1: \", part_one(t))\n",
    "    elif part == 2:\n",
    "        print(\"Part 2: \", part_two(t))\n",
    "    elif part == 3:\n",
    "        #run both\n",
    "        print(\"Part 1: \", part_one(t))\n",
    "        print(\"Part 2: \", part_two(t))\n",
    "    tdif = time.time() - time0\n",
    "    print(\"Elapsed time: {:.4f} s\".format(tdif))"
   ]
  }
 ],
 "metadata": {
  "kernelspec": {
   "display_name": "Python 3 (ipykernel)",
   "language": "python",
   "name": "python3"
  },
  "language_info": {
   "codemirror_mode": {
    "name": "ipython",
    "version": 3
   },
   "file_extension": ".py",
   "mimetype": "text/x-python",
   "name": "python",
   "nbconvert_exporter": "python",
   "pygments_lexer": "ipython3",
   "version": "3.9.2"
  }
 },
 "nbformat": 4,
 "nbformat_minor": 5
}
