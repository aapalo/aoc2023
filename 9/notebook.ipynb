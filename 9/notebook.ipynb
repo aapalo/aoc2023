{
 "cells": [
  {
   "cell_type": "code",
   "execution_count": 93,
   "id": "0959b566-c31a-4cf9-aa16-da1d71f21a52",
   "metadata": {},
   "outputs": [],
   "source": [
    "#!/usr/bin/python3"
   ]
  },
  {
   "cell_type": "code",
   "execution_count": 94,
   "id": "cb88d538-8fc9-46c7-8140-4675c3a6ceb1",
   "metadata": {},
   "outputs": [],
   "source": [
    "#from collections import Counter\n",
    "#import re\n",
    "#import os\n",
    "import time\n",
    "#from collections import defaultdict\n",
    "#from collections import deque"
   ]
  },
  {
   "cell_type": "code",
   "execution_count": 95,
   "id": "f55b7992-aa00-49bd-8321-64bbd778e15e",
   "metadata": {},
   "outputs": [
    {
     "name": "stdout",
     "output_type": "stream",
     "text": [
      "https://adventofcode.com/2023/day/9\n"
     ]
    }
   ],
   "source": [
    "date = 9\n",
    "dev = 0 # extra prints\n",
    "part = 3 # 1,2, or 3 for both\n",
    "# 0 or 1:\n",
    "samp = 1\n",
    "print(\"https://adventofcode.com/2023/day/{}\".format(date))"
   ]
  },
  {
   "cell_type": "markdown",
   "id": "88404eb8-4034-4bdd-9dae-86e31d39efba",
   "metadata": {
    "tags": []
   },
   "source": [
    "## Read the input data "
   ]
  },
  {
   "cell_type": "code",
   "execution_count": 96,
   "id": "95c6dda8-9ebf-4edc-bfc1-078ba6b51e32",
   "metadata": {},
   "outputs": [
    {
     "name": "stdout",
     "output_type": "stream",
     "text": [
      "3\n"
     ]
    }
   ],
   "source": [
    "#time0 = time.time()\n",
    "\n",
    "if samp == 1:\n",
    "    filename = \"/sample.txt\"\n",
    "else:\n",
    "    filename = \"/input.txt\"\n",
    "try:\n",
    "    with open(str(date) + filename,\"r\") as f:\n",
    "        t = f.readlines()\n",
    "except FileNotFoundError:\n",
    "    with open(\".\" + filename,\"r\") as f:\n",
    "        t = f.readlines()\n",
    "\n",
    "t = [(x.strip().replace('  ',' ')) for x in t]\n",
    "#t = [int(x) for x in t]\n",
    "print(len(t))"
   ]
  },
  {
   "cell_type": "markdown",
   "id": "e4a219ce-1941-48f2-9b11-4717581c82c9",
   "metadata": {},
   "source": [
    "## Part one"
   ]
  },
  {
   "cell_type": "code",
   "execution_count": 97,
   "id": "5ae65db8-f67a-41e8-bf4e-228c0eae27e6",
   "metadata": {},
   "outputs": [
    {
     "name": "stdout",
     "output_type": "stream",
     "text": [
      "---\n",
      "[15, 12, 9, 6, 3, 0, -3]\n",
      "[-3, -3, -3, -3, -3, -3]\n",
      "[0, 0, 0, 0]\n",
      "---\n",
      "[15, 12, 9, 6, 3, 0, -3] *** [-3, -3]\n"
     ]
    },
    {
     "data": {
      "text/plain": [
       "-3"
      ]
     },
     "execution_count": 97,
     "metadata": {},
     "output_type": "execute_result"
    }
   ],
   "source": [
    "def extrapolate(row):\n",
    "    m = []\n",
    "    row = [int(x) for x in row]\n",
    "    m.append(row)\n",
    "    j = 1\n",
    "    anslist = []\n",
    "    while 1:\n",
    "        m.append([])\n",
    "        for i in range(1,len(m[j-1])):\n",
    "            m[j].append(m[j-1][i]-m[j-1][i-1])\n",
    "        if m[j] == [0]*len(m[j]):\n",
    "            break\n",
    "        j += 1\n",
    "    if 0:\n",
    "        print(\"---\")\n",
    "        for x in m:\n",
    "            print(x)\n",
    "        print(\"---\")\n",
    "    for i in reversed(range(1,len(m))):\n",
    "        #print(m[i-1],m[i])\n",
    "        extr = m[i][-1] + m[i-1][-1]\n",
    "        m[i-1].append(extr)\n",
    "        anslist.append(extr)\n",
    "        #print(extr)\n",
    "    if 1:\n",
    "        print(\"---\")\n",
    "        for x in m:\n",
    "            print(x)\n",
    "        print(\"---\")\n",
    "    if samp: print(row, \"***\", anslist)\n",
    "    return anslist[-1]\n",
    "\n",
    "#extrapolate(\"0 3 6 9 12 15\")\n",
    "#extrapolate(\"0 -3 -6 -9 -12 -15\")\n",
    "#extrapolate(\"1 3 6 10 15 21\")\n",
    "extrapolate([15, 12, 9, 6, 3, 0])"
   ]
  },
  {
   "cell_type": "code",
   "execution_count": 98,
   "id": "72b8f11d-18f0-4f2e-9438-75aff4b78bc1",
   "metadata": {
    "tags": []
   },
   "outputs": [
    {
     "name": "stdout",
     "output_type": "stream",
     "text": [
      "[0, 3, 6, 9, 12, 15]\n",
      "---\n",
      "[0, 3, 6, 9, 12, 15, 18]\n",
      "[3, 3, 3, 3, 3, 3]\n",
      "[0, 0, 0, 0]\n",
      "---\n",
      "[0, 3, 6, 9, 12, 15, 18] *** [3, 18]\n",
      "[1, 3, 6, 10, 15, 21]\n",
      "---\n",
      "[1, 3, 6, 10, 15, 21, 28]\n",
      "[2, 3, 4, 5, 6, 7]\n",
      "[1, 1, 1, 1, 1]\n",
      "[0, 0, 0]\n",
      "---\n",
      "[1, 3, 6, 10, 15, 21, 28] *** [1, 7, 28]\n",
      "[10, 13, 16, 21, 30, 45]\n",
      "---\n",
      "[10, 13, 16, 21, 30, 45, 68]\n",
      "[3, 3, 5, 9, 15, 23]\n",
      "[0, 2, 4, 6, 8]\n",
      "[2, 2, 2, 2]\n",
      "[0, 0]\n",
      "---\n",
      "[10, 13, 16, 21, 30, 45, 68] *** [2, 8, 23, 68]\n"
     ]
    },
    {
     "data": {
      "text/plain": [
       "114"
      ]
     },
     "execution_count": 98,
     "metadata": {},
     "output_type": "execute_result"
    }
   ],
   "source": [
    "def part_one(te):\n",
    "    ans = 0\n",
    "    for r in te:\n",
    "        #print(r)\n",
    "        r = r.split()\n",
    "        r = [int(x) for x in r]\n",
    "        print(r)\n",
    "        ans += extrapolate(r)\n",
    "    return ans\n",
    "part_one(t) #1707947399 low"
   ]
  },
  {
   "cell_type": "markdown",
   "id": "99b4800a-d2b1-4fb8-a6fb-af8b8d5f80cb",
   "metadata": {},
   "source": [
    "## Part two"
   ]
  },
  {
   "cell_type": "code",
   "execution_count": null,
   "id": "574b9b37-6aa3-4fe9-b6f2-9da55c177ab7",
   "metadata": {},
   "outputs": [],
   "source": []
  },
  {
   "cell_type": "code",
   "execution_count": 100,
   "id": "aa19182a-5969-4229-9b5c-8630a4e51d53",
   "metadata": {
    "tags": []
   },
   "outputs": [
    {
     "name": "stdout",
     "output_type": "stream",
     "text": [
      "[15, 12, 9, 6, 3, 0]\n",
      "---\n",
      "[15, 12, 9, 6, 3, 0, -3]\n",
      "[-3, -3, -3, -3, -3, -3]\n",
      "[0, 0, 0, 0]\n",
      "---\n",
      "[15, 12, 9, 6, 3, 0, -3] *** [-3, -3]\n",
      "[21, 15, 10, 6, 3, 1]\n",
      "---\n",
      "[21, 15, 10, 6, 3, 1, 0]\n",
      "[-6, -5, -4, -3, -2, -1]\n",
      "[1, 1, 1, 1, 1]\n",
      "[0, 0, 0]\n",
      "---\n",
      "[21, 15, 10, 6, 3, 1, 0] *** [1, -1, 0]\n",
      "[45, 30, 21, 16, 13, 10]\n",
      "---\n",
      "[45, 30, 21, 16, 13, 10, 5]\n",
      "[-15, -9, -5, -3, -3, -5]\n",
      "[6, 4, 2, 0, -2]\n",
      "[-2, -2, -2, -2]\n",
      "[0, 0]\n",
      "---\n",
      "[45, 30, 21, 16, 13, 10, 5] *** [-2, -2, -5, 5]\n"
     ]
    },
    {
     "data": {
      "text/plain": [
       "2"
      ]
     },
     "execution_count": 100,
     "metadata": {},
     "output_type": "execute_result"
    }
   ],
   "source": [
    "def part_two(te):\n",
    "    ans = 0\n",
    "    for r in te:\n",
    "        #print(r)\n",
    "        r2 = r.split()\n",
    "        r2 = [int(x) for x in r2]\n",
    "        r2 = r2[::-1]\n",
    "        print(list(r2))\n",
    "        ans += extrapolate(r2)\n",
    "    return ans\n",
    "part_two(t)"
   ]
  },
  {
   "cell_type": "markdown",
   "id": "52366ae7-ceec-409e-b637-0e61036c962f",
   "metadata": {},
   "source": [
    "## Run the programs"
   ]
  },
  {
   "cell_type": "code",
   "execution_count": null,
   "id": "e7c79c46-6c97-4a27-92c3-cf2c5a54a320",
   "metadata": {},
   "outputs": [],
   "source": [
    "if 1:\n",
    "    time0 = time.time()\n",
    "    if part == 1:\n",
    "        print(\"Part 1: \", part_one(t))\n",
    "    elif part == 2:\n",
    "        print(\"Part 2: \", part_two(t))\n",
    "    elif part == 3:\n",
    "        #run both\n",
    "        print(\"Part 1: \", part_one(t))\n",
    "        print(\"Part 2: \", part_two(t))\n",
    "    tdif = time.time() - time0\n",
    "    print(\"Elapsed time: {:.4f} s\".format(tdif))"
   ]
  }
 ],
 "metadata": {
  "kernelspec": {
   "display_name": "Python 3 (ipykernel)",
   "language": "python",
   "name": "python3"
  },
  "language_info": {
   "codemirror_mode": {
    "name": "ipython",
    "version": 3
   },
   "file_extension": ".py",
   "mimetype": "text/x-python",
   "name": "python",
   "nbconvert_exporter": "python",
   "pygments_lexer": "ipython3",
   "version": "3.9.2"
  }
 },
 "nbformat": 4,
 "nbformat_minor": 5
}
